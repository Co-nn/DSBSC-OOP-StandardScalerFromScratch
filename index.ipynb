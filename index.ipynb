{
 "cells": [
  {
   "cell_type": "markdown",
   "metadata": {
    "index": 0
   },
   "source": [
    "# Object Oriented Programming - Practice\n",
    "\n",
    "### Write a Standard Scaler from Scratch!\n",
    "\n",
    "In this notebook, we walk through the process of coding SKLearn's `StandardScaler` class from scratch."
   ]
  },
  {
   "cell_type": "code",
   "execution_count": null,
   "metadata": {
    "index": 1
   },
   "outputs": [],
   "source": [
    "# Run this cell unchanged\n",
    "# Import assignment packages\n",
    "import pandas as pd\n",
    "import numpy as np\n",
    "from sklearn.model_selection import train_test_split\n",
    "\n",
    "# Load data\n",
    "df = pd.read_csv('data/auto-mpg.csv')\n",
    "# Let's only use the numeric columns, so drop car name\n",
    "df = df.drop(columns='car name')\n",
    "\n",
    "# Output preview of data\n",
    "df.head(2)"
   ]
  },
  {
   "cell_type": "markdown",
   "metadata": {
    "index": 3
   },
   "source": [
    "**Let's set up a train test split for our dataset**"
   ]
  },
  {
   "cell_type": "code",
   "execution_count": null,
   "metadata": {
    "index": 4
   },
   "outputs": [],
   "source": [
    "# Run this cell unchanged\n",
    "X = df.drop(columns = 'mpg')\n",
    "y = df['mpg']\n",
    "X_train, X_test, y_train, y_test = train_test_split(X, y, random_state=2022)"
   ]
  },
  {
   "cell_type": "markdown",
   "metadata": {
    "index": 6
   },
   "source": [
    "## Your Task\n",
    "1. Write `fit` and `transform` functions ***outside*** of a class\n",
    "\n",
    "    - We want to get the code working _before_ we throw it into a class\n",
    "    \n",
    "    \n",
    "2. Create a `StandardScaler` class with `fit` and `transform` methods\n",
    "\n",
    "    - We will need to add the `self` variable during this step\n",
    "    \n",
    "    \n",
    "Then we'll compare our results with SKLearn's!"
   ]
  },
  {
   "cell_type": "markdown",
   "metadata": {
    "index": 7
   },
   "source": [
    "### Step 1.1: `fit`"
   ]
  },
  {
   "cell_type": "markdown",
   "metadata": {
    "index": 8
   },
   "source": [
    "In the cell below, let's define a function called `fit`. \n",
    "\n",
    "**This function should receive 1 argument**\n",
    "1. `X` - A pandas dataframe or numpy array\n",
    "\n",
    "**This function should execute the following steps:**\n",
    "1. Convert `X` to a numpy array by passing the input into `np.array`.\n",
    "3. Loop over the columns of the numpy array.\n",
    "4. For each column, calculate the mean and standard deviation\n",
    "5. Store the statistics in the container as a tuple with the following format:\n",
    "```python\n",
    "(mean, standard_deviation)\n",
    "```\n",
    "\n",
    "**This function should not return anything.**"
   ]
  },
  {
   "cell_type": "code",
   "execution_count": null,
   "metadata": {
    "index": 9
   },
   "outputs": [],
   "source": [
    "container = []\n",
    "\n",
    "def fit(X):\n",
    "    # Convert X to a numpy array by passing the input into np.array\n",
    "    \n",
    "    # Loop over the columns of the numpy array.\n",
    "    \n",
    "        # For each column, calculate the mean and standard deviation\n",
    "        \n",
    "        # Store the statistics AS A TUPLE in the container\n",
    "        "
   ]
  },
  {
   "cell_type": "markdown",
   "metadata": {
    "index": 14
   },
   "source": [
    "### Step 1.2: `transform`\n",
    "\n",
    "Below we define function called `transform`. \n",
    "\n",
    "**This function should receive 1 argument**\n",
    "1. `X` - Pandas dataframe or numpy array\n",
    "\n",
    "**This function should execute the following steps:**\n",
    "1. Convert X to a numpy array by passing the input into np.array\n",
    "2. Loop over the columns of X\n",
    "3. Access the mean and standard deviation that were created from the `fit` function and stored in the container variable.\n",
    "4. Subtract the mean from the column and divide by the standard deviation.\n",
    "5. Return the transformed version of X"
   ]
  },
  {
   "cell_type": "code",
   "execution_count": null,
   "metadata": {
    "index": 15
   },
   "outputs": [],
   "source": [
    "def transform(X):\n",
    "    # Convert X to a numpy array by passing the input into np.array\n",
    "    \n",
    "    # Loop over the columns of X\n",
    "    \n",
    "        # Access the mean and standard deviation that were \n",
    "        # created from the fit function and stored in the container variable.\n",
    "        \n",
    "        # Subtract the mean from the column \n",
    "        # and divide by the standard deviation.\n",
    "       \n",
    "    # Return the transformed version of X  \n",
    "    "
   ]
  },
  {
   "cell_type": "code",
   "execution_count": null,
   "metadata": {
    "index": 18
   },
   "outputs": [],
   "source": [
    "# Run this cell to try it\n",
    "container = []\n",
    "fit(X_train)\n",
    "X_train_scaled = transform(X_train)\n",
    "X_train_scaled[:5]"
   ]
  },
  {
   "cell_type": "markdown",
   "metadata": {
    "index": 20
   },
   "source": [
    "## Step 2: Move our code into a `StandardScaler` class!\n",
    "\n",
    "Adjust the two functions you wrote above to work as class methods.\n",
    "\n",
    "Note that you'll want to add the `self` argument to your function, before the `X` argument those functions take in. \n",
    "\n",
    "You'll also want to save the container as a `container` attribute of your class."
   ]
  },
  {
   "cell_type": "code",
   "execution_count": null,
   "metadata": {
    "index": 21
   },
   "outputs": [],
   "source": [
    "class StandardScaler:\n",
    "    \n",
    "    def fit():\n",
    "        \n",
    "    def transform():\n",
    "        "
   ]
  },
  {
   "cell_type": "markdown",
   "metadata": {
    "index": 23
   },
   "source": [
    "## Now, compare our results with SKLearn's scaler!\n",
    "\n",
    "Run the cells below **without changes** to check your work!"
   ]
  },
  {
   "cell_type": "code",
   "execution_count": null,
   "metadata": {
    "index": 24
   },
   "outputs": [],
   "source": [
    "from sklearn.preprocessing import StandardScaler as SklearnScaler"
   ]
  },
  {
   "cell_type": "code",
   "execution_count": null,
   "metadata": {
    "index": 26
   },
   "outputs": [],
   "source": [
    "# Create an instance of our scaler\n",
    "our_scaler = StandardScaler()\n",
    "our_scaler.fit(X_train)"
   ]
  },
  {
   "cell_type": "code",
   "execution_count": null,
   "metadata": {},
   "outputs": [],
   "source": [
    "# Create an instance of sklearn's scaler\n",
    "sk_scaler = SklearnScaler()\n",
    "sk_scaler.fit(X_train)"
   ]
  },
  {
   "cell_type": "code",
   "execution_count": null,
   "metadata": {
    "index": 28
   },
   "outputs": [],
   "source": [
    "# Scaler train with our scaler\n",
    "our_scaled_train = our_scaler.transform(X_train)\n",
    "sk_scaled_train = sk_scaler.transform(X_train)\n",
    "\n",
    "# Scaler test with our scaler\n",
    "our_scaled_test = our_scaler.transform(X_test)\n",
    "sk_scaled_test = sk_scaler.transform(X_test)"
   ]
  },
  {
   "cell_type": "code",
   "execution_count": null,
   "metadata": {
    "index": 30
   },
   "outputs": [],
   "source": [
    "# Check if our scaled train is the same as sklearn's\n",
    "np.all(our_scaled_train == sk_scaled_train)"
   ]
  },
  {
   "cell_type": "code",
   "execution_count": null,
   "metadata": {
    "index": 32
   },
   "outputs": [],
   "source": [
    "# Check if our scaled test is the same as sklearn's\n",
    "np.all(our_scaled_test == sk_scaled_test)"
   ]
  }
 ],
 "metadata": {
  "kernelspec": {
   "display_name": "Python 3 (ipykernel)",
   "language": "python",
   "name": "python3"
  },
  "language_info": {
   "codemirror_mode": {
    "name": "ipython",
    "version": 3
   },
   "file_extension": ".py",
   "mimetype": "text/x-python",
   "name": "python",
   "nbconvert_exporter": "python",
   "pygments_lexer": "ipython3",
   "version": "3.9.5"
  }
 },
 "nbformat": 4,
 "nbformat_minor": 4
}
